{
 "cells": [
  {
   "cell_type": "code",
   "execution_count": 2,
   "id": "8ed74d5f",
   "metadata": {},
   "outputs": [],
   "source": [
    "# url = https://results-2023.runonless.com/truck/?day={}&depot={}&truck={}&units=imperial\n",
    "\n",
    "# get list of days id = “id_day”\n",
    "\n",
    "# days =\n",
    "\n",
    "# get list of depot\n",
    "\n",
    "# required id = “id_depot”\n",
    "\n",
    "# depots =\n",
    "\n",
    "# truck dropdowns are different for each depot"
   ]
  },
  {
   "cell_type": "markdown",
   "id": "a7686f3b-b192-4a56-8d05-59bbb066ce4c",
   "metadata": {},
   "source": [
    "Take a look at URL first.\n",
    "\n",
    "What do you notice?\n",
    "\n",
    "Then take a look at the actual webpage\n",
    "\n",
    "All of the information is present on the webpage. To see it, command option U\n",
    "\n",
    "Whoever wrote the website put all of these elements in \"containers.\" Unfortunately this is really messy and hard to scrape. \n",
    "\n",
    "using containers and attributes to pull things from the page and put them in categories"
   ]
  },
  {
   "cell_type": "code",
   "execution_count": null,
   "id": "777db5b4-100b-4fa3-b3e6-943b65adc421",
   "metadata": {},
   "outputs": [],
   "source": [
    "#https://sandeepmj.github.io/scrape-example-page/demo-text.html"
   ]
  },
  {
   "cell_type": "code",
   "execution_count": 4,
   "id": "bd7d815a-f950-4453-ba2b-073dc23e7c00",
   "metadata": {},
   "outputs": [],
   "source": [
    "url = 'https://results-2023.runonless.com/truck/?day={}&depot={}&truck={}&units=imperial'"
   ]
  },
  {
   "cell_type": "code",
   "execution_count": 9,
   "id": "861eafb9-e79c-4073-bc84-79b66aa76672",
   "metadata": {},
   "outputs": [],
   "source": [
    "import requests\n",
    "import pandas as pd\n",
    "from bs4 import BeautifulSoup"
   ]
  },
  {
   "cell_type": "code",
   "execution_count": 44,
   "id": "7ca7bee2-2a1b-44c7-ad24-4a1a9ac5149a",
   "metadata": {},
   "outputs": [],
   "source": [
    "\n"
   ]
  },
  {
   "cell_type": "code",
   "execution_count": 11,
   "id": "16a8e293-dad6-47b6-9d30-c9b785f4fb30",
   "metadata": {},
   "outputs": [],
   "source": [
    "scraping_url = \"https://results-2023.runonless.com/truck/?day=11&depot=pepsico&truck=pepsi_tesla1&units=imperial\""
   ]
  },
  {
   "cell_type": "code",
   "execution_count": 12,
   "id": "69d86c30-6c02-4b17-aee1-8e34745bffa9",
   "metadata": {},
   "outputs": [],
   "source": [
    "response1 = requests.get(scraping_url)\n"
   ]
  },
  {
   "cell_type": "code",
   "execution_count": 13,
   "id": "73f9dd29-ec8f-4eac-8658-09371bf851fa",
   "metadata": {},
   "outputs": [
    {
     "data": {
      "text/plain": [
       "200"
      ]
     },
     "execution_count": 13,
     "metadata": {},
     "output_type": "execute_result"
    }
   ],
   "source": [
    "response1.status_code"
   ]
  },
  {
   "cell_type": "code",
   "execution_count": 14,
   "id": "b1a58426-af9d-4630-89fd-1002034883ae",
   "metadata": {},
   "outputs": [],
   "source": [
    "soup1 = BeautifulSoup(response1.text, \"html.parser\")"
   ]
  },
  {
   "cell_type": "code",
   "execution_count": 16,
   "id": "49ce7d82-12ca-44d5-b0ca-6f5c11c1d847",
   "metadata": {},
   "outputs": [
    {
     "data": {
      "text/plain": [
       "[<select @change=\"changed = true\" class=\"resultsDropdown\" hx-get=\"/truck-selection/\" hx-target=\"#trucks\" id=\"id_depot\" name=\"depot\" required=\"\">\n",
       " <option value=\"\">OVERVIEW FOR ALL DEPOTS</option>\n",
       " <option value=\"frito_lay\">Frito-Lay (Queens)</option>\n",
       " <option value=\"ok_produce\">OK Produce (Fresno)</option>\n",
       " <option value=\"penske\">Penske (Ontario)</option>\n",
       " <option selected=\"\" value=\"pepsico\">PepsiCo (Sacramento)</option>\n",
       " <option value=\"perf_team\">Performance Team (Commerce)</option>\n",
       " <option value=\"purolator\">Purolator (Richmond)</option>\n",
       " <option value=\"schneider\">Schneider (South El Monte)</option>\n",
       " <option value=\"ups\">UPS (Compton)</option>\n",
       " <option value=\"us_foods\">US Foods (La Mirada)</option>\n",
       " <option value=\"wattev\">WattEV (Long Beach)</option>\n",
       " </select>]"
      ]
     },
     "execution_count": 16,
     "metadata": {},
     "output_type": "execute_result"
    }
   ],
   "source": [
    "soup1.find_all(\"option selected\" == \"\", class_ = \"resultsDropdown\", id = \"id_depot\")"
   ]
  },
  {
   "cell_type": "code",
   "execution_count": 35,
   "id": "aecf5c0b-9c57-41e3-b436-ebd4247c7115",
   "metadata": {},
   "outputs": [
    {
     "data": {
      "text/plain": [
       "['frito_lay',\n",
       " 'ok_produce',\n",
       " 'penske',\n",
       " 'pepsico',\n",
       " 'perf_team',\n",
       " 'purolator',\n",
       " 'schneider',\n",
       " 'ups',\n",
       " 'us_foods',\n",
       " 'wattev']"
      ]
     },
     "execution_count": 35,
     "metadata": {},
     "output_type": "execute_result"
    }
   ],
   "source": [
    "##I am finding all of the \"option\" elements because that is where the URL info is contained\n",
    "\n",
    "depots_raw = soup1.find_all(class_ = \"resultsDropdown\", id = \"id_depot\")\n",
    "depots = []\n",
    "\n",
    "for each in depots_raw:\n",
    "    depots_dirty = each.find_all(\"option\")\n",
    "    for each2 in depots_dirty:\n",
    "        depots.append(each2[\"value\"])\n",
    "    \n",
    "depots = depots[1:11]\n",
    "\n",
    "depots"
   ]
  },
  {
   "cell_type": "code",
   "execution_count": 37,
   "id": "578e0fe4-dced-48ae-a690-9edce7f8e889",
   "metadata": {},
   "outputs": [],
   "source": [
    "url3 = \"https://results-2023.runonless.com/truck-selection/?depot={}\""
   ]
  },
  {
   "cell_type": "code",
   "execution_count": 38,
   "id": "f5cddd3c-e179-4016-b106-9eddd123a731",
   "metadata": {},
   "outputs": [],
   "source": [
    "trucks = []\n",
    "non_day_urls = []\n",
    "depots_raw = soup1.find_all(class_ = \"resultsDropdown\", id = \"id_depot\")\n",
    "depots = []\n",
    "trucks_urls = []\n",
    "depot_trucks = []\n",
    "\n",
    "for each in depots_raw:\n",
    "    depots_dirty = each.find_all(\"option\")\n",
    "    for each2 in depots_dirty:\n",
    "        depots.append(each2[\"value\"])    \n",
    "depots = depots[1:11]\n",
    "for depot in depots:\n",
    "    truck_url = url3.format(depot)\n",
    "    response = requests.get(truck_url)\n",
    "    soup = BeautifulSoup(response.text, \"html.parser\")\n",
    "    for each2 in soup:\n",
    "        trucks_dirty = each2.find_all(\"option\")\n",
    "        for each3 in trucks_dirty:\n",
    "            depot_truck_list = (depot, each3[\"value\"])\n",
    "            depot_trucks.append(depot_truck_list)"
   ]
  },
  {
   "cell_type": "code",
   "execution_count": 39,
   "id": "0445c16c-4c3f-400e-b80d-4ab5a0c3730c",
   "metadata": {},
   "outputs": [],
   "source": [
    "url_fragment = \"&depot={}&truck={}&units=imperial\""
   ]
  },
  {
   "cell_type": "code",
   "execution_count": 40,
   "id": "3b868c8e-7753-403d-8403-435d388eee8f",
   "metadata": {},
   "outputs": [],
   "source": [
    "fragments_clean = []\n",
    "\n",
    "for each in depot_trucks:\n",
    "    fragments_clean.append(url_fragment.format(*each))"
   ]
  },
  {
   "cell_type": "code",
   "execution_count": 41,
   "id": "8b7cfc25-196a-4fe3-894e-45da2d5fb56f",
   "metadata": {},
   "outputs": [
    {
     "data": {
      "text/plain": [
       "['&depot=frito_lay&truck=frito_etransit_6&units=imperial',\n",
       " '&depot=frito_lay&truck=frito_etransit_14&units=imperial',\n",
       " '&depot=ok_produce&truck=okp_orange&units=imperial',\n",
       " '&depot=ok_produce&truck=okp_ecascadia_3&units=imperial',\n",
       " '&depot=penske&truck=pen_emv&units=imperial',\n",
       " '&depot=penske&truck=pen_etransit&units=imperial',\n",
       " '&depot=penske&truck=pen_cascadia&units=imperial',\n",
       " '&depot=pepsico&truck=pepsi_tesla1&units=imperial',\n",
       " '&depot=pepsico&truck=pepsi_tesla2&units=imperial',\n",
       " '&depot=pepsico&truck=pepsi_tesla3&units=imperial',\n",
       " '&depot=perf_team&truck=per_vnr_1&units=imperial',\n",
       " '&depot=perf_team&truck=per_vnr_2&units=imperial',\n",
       " '&depot=purolator&truck=pur_etransit&units=imperial',\n",
       " '&depot=purolator&truck=pur_motiv3&units=imperial',\n",
       " '&depot=schneider&truck=sch_ecascadia_2&units=imperial',\n",
       " '&depot=schneider&truck=sch_ecascadia_3&units=imperial',\n",
       " '&depot=ups&truck=ups_fccc&units=imperial',\n",
       " '&depot=ups&truck=ups_ecascadia&units=imperial',\n",
       " '&depot=us_foods&truck=usf_ecascadia_1&units=imperial',\n",
       " '&depot=us_foods&truck=usf_ecascadia_3&units=imperial',\n",
       " '&depot=wattev&truck=wattev_byd_1&units=imperial',\n",
       " '&depot=wattev&truck=water_nikola_1&units=imperial']"
      ]
     },
     "execution_count": 41,
     "metadata": {},
     "output_type": "execute_result"
    }
   ],
   "source": [
    "fragments_clean"
   ]
  },
  {
   "cell_type": "code",
   "execution_count": 42,
   "id": "b551bfab-f7d5-4a47-97ba-5a2043b58955",
   "metadata": {},
   "outputs": [],
   "source": [
    "url_day = \"https://results-2023.runonless.com/truck/?day={}\""
   ]
  },
  {
   "cell_type": "code",
   "execution_count": null,
   "id": "37e0d3e0-e26f-4049-b37f-2241160406af",
   "metadata": {},
   "outputs": [],
   "source": [
    "url_day = \"https://results-2023.runonless.com/truck/?day={}\""
   ]
  },
  {
   "cell_type": "code",
   "execution_count": 46,
   "id": "9624a90d-b7fd-4f24-89c3-f1c3df56025e",
   "metadata": {},
   "outputs": [],
   "source": [
    "days = list(range(1, 11))"
   ]
  },
  {
   "cell_type": "code",
   "execution_count": 47,
   "id": "688f606a-5870-4062-9189-1043a3b106a4",
   "metadata": {
    "scrolled": true
   },
   "outputs": [
    {
     "data": {
      "text/plain": [
       "[1, 2, 3, 4, 5, 6, 7, 8, 9, 10]"
      ]
     },
     "execution_count": 47,
     "metadata": {},
     "output_type": "execute_result"
    }
   ],
   "source": [
    "days"
   ]
  },
  {
   "cell_type": "code",
   "execution_count": 48,
   "id": "09d7d478-7152-4265-a035-b788d4bd5644",
   "metadata": {},
   "outputs": [
    {
     "data": {
      "text/plain": [
       "['https://results-2023.runonless.com/truck/?day=1',\n",
       " 'https://results-2023.runonless.com/truck/?day=2',\n",
       " 'https://results-2023.runonless.com/truck/?day=3',\n",
       " 'https://results-2023.runonless.com/truck/?day=4',\n",
       " 'https://results-2023.runonless.com/truck/?day=5',\n",
       " 'https://results-2023.runonless.com/truck/?day=6',\n",
       " 'https://results-2023.runonless.com/truck/?day=7',\n",
       " 'https://results-2023.runonless.com/truck/?day=8',\n",
       " 'https://results-2023.runonless.com/truck/?day=9',\n",
       " 'https://results-2023.runonless.com/truck/?day=10']"
      ]
     },
     "execution_count": 48,
     "metadata": {},
     "output_type": "execute_result"
    }
   ],
   "source": [
    "urls_days = []\n",
    "\n",
    "for day in days:\n",
    "    urls_days.append(url_day.format(day))\n",
    "        \n",
    "urls_days"
   ]
  },
  {
   "cell_type": "code",
   "execution_count": 49,
   "id": "f9520929-7119-4821-ab7b-d7568231ac56",
   "metadata": {},
   "outputs": [
    {
     "data": {
      "text/plain": [
       "['https://results-2023.runonless.com/truck/?day=1&depot=frito_lay&truck=frito_etransit_6&units=imperial',\n",
       " 'https://results-2023.runonless.com/truck/?day=1&depot=frito_lay&truck=frito_etransit_14&units=imperial',\n",
       " 'https://results-2023.runonless.com/truck/?day=1&depot=ok_produce&truck=okp_orange&units=imperial',\n",
       " 'https://results-2023.runonless.com/truck/?day=1&depot=ok_produce&truck=okp_ecascadia_3&units=imperial',\n",
       " 'https://results-2023.runonless.com/truck/?day=1&depot=penske&truck=pen_emv&units=imperial',\n",
       " 'https://results-2023.runonless.com/truck/?day=1&depot=penske&truck=pen_etransit&units=imperial',\n",
       " 'https://results-2023.runonless.com/truck/?day=1&depot=penske&truck=pen_cascadia&units=imperial',\n",
       " 'https://results-2023.runonless.com/truck/?day=1&depot=pepsico&truck=pepsi_tesla1&units=imperial',\n",
       " 'https://results-2023.runonless.com/truck/?day=1&depot=pepsico&truck=pepsi_tesla2&units=imperial',\n",
       " 'https://results-2023.runonless.com/truck/?day=1&depot=pepsico&truck=pepsi_tesla3&units=imperial',\n",
       " 'https://results-2023.runonless.com/truck/?day=1&depot=perf_team&truck=per_vnr_1&units=imperial',\n",
       " 'https://results-2023.runonless.com/truck/?day=1&depot=perf_team&truck=per_vnr_2&units=imperial',\n",
       " 'https://results-2023.runonless.com/truck/?day=1&depot=purolator&truck=pur_etransit&units=imperial',\n",
       " 'https://results-2023.runonless.com/truck/?day=1&depot=purolator&truck=pur_motiv3&units=imperial',\n",
       " 'https://results-2023.runonless.com/truck/?day=1&depot=schneider&truck=sch_ecascadia_2&units=imperial',\n",
       " 'https://results-2023.runonless.com/truck/?day=1&depot=schneider&truck=sch_ecascadia_3&units=imperial',\n",
       " 'https://results-2023.runonless.com/truck/?day=1&depot=ups&truck=ups_fccc&units=imperial',\n",
       " 'https://results-2023.runonless.com/truck/?day=1&depot=ups&truck=ups_ecascadia&units=imperial',\n",
       " 'https://results-2023.runonless.com/truck/?day=1&depot=us_foods&truck=usf_ecascadia_1&units=imperial',\n",
       " 'https://results-2023.runonless.com/truck/?day=1&depot=us_foods&truck=usf_ecascadia_3&units=imperial',\n",
       " 'https://results-2023.runonless.com/truck/?day=1&depot=wattev&truck=wattev_byd_1&units=imperial',\n",
       " 'https://results-2023.runonless.com/truck/?day=1&depot=wattev&truck=water_nikola_1&units=imperial',\n",
       " 'https://results-2023.runonless.com/truck/?day=2&depot=frito_lay&truck=frito_etransit_6&units=imperial',\n",
       " 'https://results-2023.runonless.com/truck/?day=2&depot=frito_lay&truck=frito_etransit_14&units=imperial',\n",
       " 'https://results-2023.runonless.com/truck/?day=2&depot=ok_produce&truck=okp_orange&units=imperial',\n",
       " 'https://results-2023.runonless.com/truck/?day=2&depot=ok_produce&truck=okp_ecascadia_3&units=imperial',\n",
       " 'https://results-2023.runonless.com/truck/?day=2&depot=penske&truck=pen_emv&units=imperial',\n",
       " 'https://results-2023.runonless.com/truck/?day=2&depot=penske&truck=pen_etransit&units=imperial',\n",
       " 'https://results-2023.runonless.com/truck/?day=2&depot=penske&truck=pen_cascadia&units=imperial',\n",
       " 'https://results-2023.runonless.com/truck/?day=2&depot=pepsico&truck=pepsi_tesla1&units=imperial',\n",
       " 'https://results-2023.runonless.com/truck/?day=2&depot=pepsico&truck=pepsi_tesla2&units=imperial',\n",
       " 'https://results-2023.runonless.com/truck/?day=2&depot=pepsico&truck=pepsi_tesla3&units=imperial',\n",
       " 'https://results-2023.runonless.com/truck/?day=2&depot=perf_team&truck=per_vnr_1&units=imperial',\n",
       " 'https://results-2023.runonless.com/truck/?day=2&depot=perf_team&truck=per_vnr_2&units=imperial',\n",
       " 'https://results-2023.runonless.com/truck/?day=2&depot=purolator&truck=pur_etransit&units=imperial',\n",
       " 'https://results-2023.runonless.com/truck/?day=2&depot=purolator&truck=pur_motiv3&units=imperial',\n",
       " 'https://results-2023.runonless.com/truck/?day=2&depot=schneider&truck=sch_ecascadia_2&units=imperial',\n",
       " 'https://results-2023.runonless.com/truck/?day=2&depot=schneider&truck=sch_ecascadia_3&units=imperial',\n",
       " 'https://results-2023.runonless.com/truck/?day=2&depot=ups&truck=ups_fccc&units=imperial',\n",
       " 'https://results-2023.runonless.com/truck/?day=2&depot=ups&truck=ups_ecascadia&units=imperial',\n",
       " 'https://results-2023.runonless.com/truck/?day=2&depot=us_foods&truck=usf_ecascadia_1&units=imperial',\n",
       " 'https://results-2023.runonless.com/truck/?day=2&depot=us_foods&truck=usf_ecascadia_3&units=imperial',\n",
       " 'https://results-2023.runonless.com/truck/?day=2&depot=wattev&truck=wattev_byd_1&units=imperial',\n",
       " 'https://results-2023.runonless.com/truck/?day=2&depot=wattev&truck=water_nikola_1&units=imperial',\n",
       " 'https://results-2023.runonless.com/truck/?day=3&depot=frito_lay&truck=frito_etransit_6&units=imperial',\n",
       " 'https://results-2023.runonless.com/truck/?day=3&depot=frito_lay&truck=frito_etransit_14&units=imperial',\n",
       " 'https://results-2023.runonless.com/truck/?day=3&depot=ok_produce&truck=okp_orange&units=imperial',\n",
       " 'https://results-2023.runonless.com/truck/?day=3&depot=ok_produce&truck=okp_ecascadia_3&units=imperial',\n",
       " 'https://results-2023.runonless.com/truck/?day=3&depot=penske&truck=pen_emv&units=imperial',\n",
       " 'https://results-2023.runonless.com/truck/?day=3&depot=penske&truck=pen_etransit&units=imperial',\n",
       " 'https://results-2023.runonless.com/truck/?day=3&depot=penske&truck=pen_cascadia&units=imperial',\n",
       " 'https://results-2023.runonless.com/truck/?day=3&depot=pepsico&truck=pepsi_tesla1&units=imperial',\n",
       " 'https://results-2023.runonless.com/truck/?day=3&depot=pepsico&truck=pepsi_tesla2&units=imperial',\n",
       " 'https://results-2023.runonless.com/truck/?day=3&depot=pepsico&truck=pepsi_tesla3&units=imperial',\n",
       " 'https://results-2023.runonless.com/truck/?day=3&depot=perf_team&truck=per_vnr_1&units=imperial',\n",
       " 'https://results-2023.runonless.com/truck/?day=3&depot=perf_team&truck=per_vnr_2&units=imperial',\n",
       " 'https://results-2023.runonless.com/truck/?day=3&depot=purolator&truck=pur_etransit&units=imperial',\n",
       " 'https://results-2023.runonless.com/truck/?day=3&depot=purolator&truck=pur_motiv3&units=imperial',\n",
       " 'https://results-2023.runonless.com/truck/?day=3&depot=schneider&truck=sch_ecascadia_2&units=imperial',\n",
       " 'https://results-2023.runonless.com/truck/?day=3&depot=schneider&truck=sch_ecascadia_3&units=imperial',\n",
       " 'https://results-2023.runonless.com/truck/?day=3&depot=ups&truck=ups_fccc&units=imperial',\n",
       " 'https://results-2023.runonless.com/truck/?day=3&depot=ups&truck=ups_ecascadia&units=imperial',\n",
       " 'https://results-2023.runonless.com/truck/?day=3&depot=us_foods&truck=usf_ecascadia_1&units=imperial',\n",
       " 'https://results-2023.runonless.com/truck/?day=3&depot=us_foods&truck=usf_ecascadia_3&units=imperial',\n",
       " 'https://results-2023.runonless.com/truck/?day=3&depot=wattev&truck=wattev_byd_1&units=imperial',\n",
       " 'https://results-2023.runonless.com/truck/?day=3&depot=wattev&truck=water_nikola_1&units=imperial',\n",
       " 'https://results-2023.runonless.com/truck/?day=4&depot=frito_lay&truck=frito_etransit_6&units=imperial',\n",
       " 'https://results-2023.runonless.com/truck/?day=4&depot=frito_lay&truck=frito_etransit_14&units=imperial',\n",
       " 'https://results-2023.runonless.com/truck/?day=4&depot=ok_produce&truck=okp_orange&units=imperial',\n",
       " 'https://results-2023.runonless.com/truck/?day=4&depot=ok_produce&truck=okp_ecascadia_3&units=imperial',\n",
       " 'https://results-2023.runonless.com/truck/?day=4&depot=penske&truck=pen_emv&units=imperial',\n",
       " 'https://results-2023.runonless.com/truck/?day=4&depot=penske&truck=pen_etransit&units=imperial',\n",
       " 'https://results-2023.runonless.com/truck/?day=4&depot=penske&truck=pen_cascadia&units=imperial',\n",
       " 'https://results-2023.runonless.com/truck/?day=4&depot=pepsico&truck=pepsi_tesla1&units=imperial',\n",
       " 'https://results-2023.runonless.com/truck/?day=4&depot=pepsico&truck=pepsi_tesla2&units=imperial',\n",
       " 'https://results-2023.runonless.com/truck/?day=4&depot=pepsico&truck=pepsi_tesla3&units=imperial',\n",
       " 'https://results-2023.runonless.com/truck/?day=4&depot=perf_team&truck=per_vnr_1&units=imperial',\n",
       " 'https://results-2023.runonless.com/truck/?day=4&depot=perf_team&truck=per_vnr_2&units=imperial',\n",
       " 'https://results-2023.runonless.com/truck/?day=4&depot=purolator&truck=pur_etransit&units=imperial',\n",
       " 'https://results-2023.runonless.com/truck/?day=4&depot=purolator&truck=pur_motiv3&units=imperial',\n",
       " 'https://results-2023.runonless.com/truck/?day=4&depot=schneider&truck=sch_ecascadia_2&units=imperial',\n",
       " 'https://results-2023.runonless.com/truck/?day=4&depot=schneider&truck=sch_ecascadia_3&units=imperial',\n",
       " 'https://results-2023.runonless.com/truck/?day=4&depot=ups&truck=ups_fccc&units=imperial',\n",
       " 'https://results-2023.runonless.com/truck/?day=4&depot=ups&truck=ups_ecascadia&units=imperial',\n",
       " 'https://results-2023.runonless.com/truck/?day=4&depot=us_foods&truck=usf_ecascadia_1&units=imperial',\n",
       " 'https://results-2023.runonless.com/truck/?day=4&depot=us_foods&truck=usf_ecascadia_3&units=imperial',\n",
       " 'https://results-2023.runonless.com/truck/?day=4&depot=wattev&truck=wattev_byd_1&units=imperial',\n",
       " 'https://results-2023.runonless.com/truck/?day=4&depot=wattev&truck=water_nikola_1&units=imperial',\n",
       " 'https://results-2023.runonless.com/truck/?day=5&depot=frito_lay&truck=frito_etransit_6&units=imperial',\n",
       " 'https://results-2023.runonless.com/truck/?day=5&depot=frito_lay&truck=frito_etransit_14&units=imperial',\n",
       " 'https://results-2023.runonless.com/truck/?day=5&depot=ok_produce&truck=okp_orange&units=imperial',\n",
       " 'https://results-2023.runonless.com/truck/?day=5&depot=ok_produce&truck=okp_ecascadia_3&units=imperial',\n",
       " 'https://results-2023.runonless.com/truck/?day=5&depot=penske&truck=pen_emv&units=imperial',\n",
       " 'https://results-2023.runonless.com/truck/?day=5&depot=penske&truck=pen_etransit&units=imperial',\n",
       " 'https://results-2023.runonless.com/truck/?day=5&depot=penske&truck=pen_cascadia&units=imperial',\n",
       " 'https://results-2023.runonless.com/truck/?day=5&depot=pepsico&truck=pepsi_tesla1&units=imperial',\n",
       " 'https://results-2023.runonless.com/truck/?day=5&depot=pepsico&truck=pepsi_tesla2&units=imperial',\n",
       " 'https://results-2023.runonless.com/truck/?day=5&depot=pepsico&truck=pepsi_tesla3&units=imperial',\n",
       " 'https://results-2023.runonless.com/truck/?day=5&depot=perf_team&truck=per_vnr_1&units=imperial',\n",
       " 'https://results-2023.runonless.com/truck/?day=5&depot=perf_team&truck=per_vnr_2&units=imperial',\n",
       " 'https://results-2023.runonless.com/truck/?day=5&depot=purolator&truck=pur_etransit&units=imperial',\n",
       " 'https://results-2023.runonless.com/truck/?day=5&depot=purolator&truck=pur_motiv3&units=imperial',\n",
       " 'https://results-2023.runonless.com/truck/?day=5&depot=schneider&truck=sch_ecascadia_2&units=imperial',\n",
       " 'https://results-2023.runonless.com/truck/?day=5&depot=schneider&truck=sch_ecascadia_3&units=imperial',\n",
       " 'https://results-2023.runonless.com/truck/?day=5&depot=ups&truck=ups_fccc&units=imperial',\n",
       " 'https://results-2023.runonless.com/truck/?day=5&depot=ups&truck=ups_ecascadia&units=imperial',\n",
       " 'https://results-2023.runonless.com/truck/?day=5&depot=us_foods&truck=usf_ecascadia_1&units=imperial',\n",
       " 'https://results-2023.runonless.com/truck/?day=5&depot=us_foods&truck=usf_ecascadia_3&units=imperial',\n",
       " 'https://results-2023.runonless.com/truck/?day=5&depot=wattev&truck=wattev_byd_1&units=imperial',\n",
       " 'https://results-2023.runonless.com/truck/?day=5&depot=wattev&truck=water_nikola_1&units=imperial',\n",
       " 'https://results-2023.runonless.com/truck/?day=6&depot=frito_lay&truck=frito_etransit_6&units=imperial',\n",
       " 'https://results-2023.runonless.com/truck/?day=6&depot=frito_lay&truck=frito_etransit_14&units=imperial',\n",
       " 'https://results-2023.runonless.com/truck/?day=6&depot=ok_produce&truck=okp_orange&units=imperial',\n",
       " 'https://results-2023.runonless.com/truck/?day=6&depot=ok_produce&truck=okp_ecascadia_3&units=imperial',\n",
       " 'https://results-2023.runonless.com/truck/?day=6&depot=penske&truck=pen_emv&units=imperial',\n",
       " 'https://results-2023.runonless.com/truck/?day=6&depot=penske&truck=pen_etransit&units=imperial',\n",
       " 'https://results-2023.runonless.com/truck/?day=6&depot=penske&truck=pen_cascadia&units=imperial',\n",
       " 'https://results-2023.runonless.com/truck/?day=6&depot=pepsico&truck=pepsi_tesla1&units=imperial',\n",
       " 'https://results-2023.runonless.com/truck/?day=6&depot=pepsico&truck=pepsi_tesla2&units=imperial',\n",
       " 'https://results-2023.runonless.com/truck/?day=6&depot=pepsico&truck=pepsi_tesla3&units=imperial',\n",
       " 'https://results-2023.runonless.com/truck/?day=6&depot=perf_team&truck=per_vnr_1&units=imperial',\n",
       " 'https://results-2023.runonless.com/truck/?day=6&depot=perf_team&truck=per_vnr_2&units=imperial',\n",
       " 'https://results-2023.runonless.com/truck/?day=6&depot=purolator&truck=pur_etransit&units=imperial',\n",
       " 'https://results-2023.runonless.com/truck/?day=6&depot=purolator&truck=pur_motiv3&units=imperial',\n",
       " 'https://results-2023.runonless.com/truck/?day=6&depot=schneider&truck=sch_ecascadia_2&units=imperial',\n",
       " 'https://results-2023.runonless.com/truck/?day=6&depot=schneider&truck=sch_ecascadia_3&units=imperial',\n",
       " 'https://results-2023.runonless.com/truck/?day=6&depot=ups&truck=ups_fccc&units=imperial',\n",
       " 'https://results-2023.runonless.com/truck/?day=6&depot=ups&truck=ups_ecascadia&units=imperial',\n",
       " 'https://results-2023.runonless.com/truck/?day=6&depot=us_foods&truck=usf_ecascadia_1&units=imperial',\n",
       " 'https://results-2023.runonless.com/truck/?day=6&depot=us_foods&truck=usf_ecascadia_3&units=imperial',\n",
       " 'https://results-2023.runonless.com/truck/?day=6&depot=wattev&truck=wattev_byd_1&units=imperial',\n",
       " 'https://results-2023.runonless.com/truck/?day=6&depot=wattev&truck=water_nikola_1&units=imperial',\n",
       " 'https://results-2023.runonless.com/truck/?day=7&depot=frito_lay&truck=frito_etransit_6&units=imperial',\n",
       " 'https://results-2023.runonless.com/truck/?day=7&depot=frito_lay&truck=frito_etransit_14&units=imperial',\n",
       " 'https://results-2023.runonless.com/truck/?day=7&depot=ok_produce&truck=okp_orange&units=imperial',\n",
       " 'https://results-2023.runonless.com/truck/?day=7&depot=ok_produce&truck=okp_ecascadia_3&units=imperial',\n",
       " 'https://results-2023.runonless.com/truck/?day=7&depot=penske&truck=pen_emv&units=imperial',\n",
       " 'https://results-2023.runonless.com/truck/?day=7&depot=penske&truck=pen_etransit&units=imperial',\n",
       " 'https://results-2023.runonless.com/truck/?day=7&depot=penske&truck=pen_cascadia&units=imperial',\n",
       " 'https://results-2023.runonless.com/truck/?day=7&depot=pepsico&truck=pepsi_tesla1&units=imperial',\n",
       " 'https://results-2023.runonless.com/truck/?day=7&depot=pepsico&truck=pepsi_tesla2&units=imperial',\n",
       " 'https://results-2023.runonless.com/truck/?day=7&depot=pepsico&truck=pepsi_tesla3&units=imperial',\n",
       " 'https://results-2023.runonless.com/truck/?day=7&depot=perf_team&truck=per_vnr_1&units=imperial',\n",
       " 'https://results-2023.runonless.com/truck/?day=7&depot=perf_team&truck=per_vnr_2&units=imperial',\n",
       " 'https://results-2023.runonless.com/truck/?day=7&depot=purolator&truck=pur_etransit&units=imperial',\n",
       " 'https://results-2023.runonless.com/truck/?day=7&depot=purolator&truck=pur_motiv3&units=imperial',\n",
       " 'https://results-2023.runonless.com/truck/?day=7&depot=schneider&truck=sch_ecascadia_2&units=imperial',\n",
       " 'https://results-2023.runonless.com/truck/?day=7&depot=schneider&truck=sch_ecascadia_3&units=imperial',\n",
       " 'https://results-2023.runonless.com/truck/?day=7&depot=ups&truck=ups_fccc&units=imperial',\n",
       " 'https://results-2023.runonless.com/truck/?day=7&depot=ups&truck=ups_ecascadia&units=imperial',\n",
       " 'https://results-2023.runonless.com/truck/?day=7&depot=us_foods&truck=usf_ecascadia_1&units=imperial',\n",
       " 'https://results-2023.runonless.com/truck/?day=7&depot=us_foods&truck=usf_ecascadia_3&units=imperial',\n",
       " 'https://results-2023.runonless.com/truck/?day=7&depot=wattev&truck=wattev_byd_1&units=imperial',\n",
       " 'https://results-2023.runonless.com/truck/?day=7&depot=wattev&truck=water_nikola_1&units=imperial',\n",
       " 'https://results-2023.runonless.com/truck/?day=8&depot=frito_lay&truck=frito_etransit_6&units=imperial',\n",
       " 'https://results-2023.runonless.com/truck/?day=8&depot=frito_lay&truck=frito_etransit_14&units=imperial',\n",
       " 'https://results-2023.runonless.com/truck/?day=8&depot=ok_produce&truck=okp_orange&units=imperial',\n",
       " 'https://results-2023.runonless.com/truck/?day=8&depot=ok_produce&truck=okp_ecascadia_3&units=imperial',\n",
       " 'https://results-2023.runonless.com/truck/?day=8&depot=penske&truck=pen_emv&units=imperial',\n",
       " 'https://results-2023.runonless.com/truck/?day=8&depot=penske&truck=pen_etransit&units=imperial',\n",
       " 'https://results-2023.runonless.com/truck/?day=8&depot=penske&truck=pen_cascadia&units=imperial',\n",
       " 'https://results-2023.runonless.com/truck/?day=8&depot=pepsico&truck=pepsi_tesla1&units=imperial',\n",
       " 'https://results-2023.runonless.com/truck/?day=8&depot=pepsico&truck=pepsi_tesla2&units=imperial',\n",
       " 'https://results-2023.runonless.com/truck/?day=8&depot=pepsico&truck=pepsi_tesla3&units=imperial',\n",
       " 'https://results-2023.runonless.com/truck/?day=8&depot=perf_team&truck=per_vnr_1&units=imperial',\n",
       " 'https://results-2023.runonless.com/truck/?day=8&depot=perf_team&truck=per_vnr_2&units=imperial',\n",
       " 'https://results-2023.runonless.com/truck/?day=8&depot=purolator&truck=pur_etransit&units=imperial',\n",
       " 'https://results-2023.runonless.com/truck/?day=8&depot=purolator&truck=pur_motiv3&units=imperial',\n",
       " 'https://results-2023.runonless.com/truck/?day=8&depot=schneider&truck=sch_ecascadia_2&units=imperial',\n",
       " 'https://results-2023.runonless.com/truck/?day=8&depot=schneider&truck=sch_ecascadia_3&units=imperial',\n",
       " 'https://results-2023.runonless.com/truck/?day=8&depot=ups&truck=ups_fccc&units=imperial',\n",
       " 'https://results-2023.runonless.com/truck/?day=8&depot=ups&truck=ups_ecascadia&units=imperial',\n",
       " 'https://results-2023.runonless.com/truck/?day=8&depot=us_foods&truck=usf_ecascadia_1&units=imperial',\n",
       " 'https://results-2023.runonless.com/truck/?day=8&depot=us_foods&truck=usf_ecascadia_3&units=imperial',\n",
       " 'https://results-2023.runonless.com/truck/?day=8&depot=wattev&truck=wattev_byd_1&units=imperial',\n",
       " 'https://results-2023.runonless.com/truck/?day=8&depot=wattev&truck=water_nikola_1&units=imperial',\n",
       " 'https://results-2023.runonless.com/truck/?day=9&depot=frito_lay&truck=frito_etransit_6&units=imperial',\n",
       " 'https://results-2023.runonless.com/truck/?day=9&depot=frito_lay&truck=frito_etransit_14&units=imperial',\n",
       " 'https://results-2023.runonless.com/truck/?day=9&depot=ok_produce&truck=okp_orange&units=imperial',\n",
       " 'https://results-2023.runonless.com/truck/?day=9&depot=ok_produce&truck=okp_ecascadia_3&units=imperial',\n",
       " 'https://results-2023.runonless.com/truck/?day=9&depot=penske&truck=pen_emv&units=imperial',\n",
       " 'https://results-2023.runonless.com/truck/?day=9&depot=penske&truck=pen_etransit&units=imperial',\n",
       " 'https://results-2023.runonless.com/truck/?day=9&depot=penske&truck=pen_cascadia&units=imperial',\n",
       " 'https://results-2023.runonless.com/truck/?day=9&depot=pepsico&truck=pepsi_tesla1&units=imperial',\n",
       " 'https://results-2023.runonless.com/truck/?day=9&depot=pepsico&truck=pepsi_tesla2&units=imperial',\n",
       " 'https://results-2023.runonless.com/truck/?day=9&depot=pepsico&truck=pepsi_tesla3&units=imperial',\n",
       " 'https://results-2023.runonless.com/truck/?day=9&depot=perf_team&truck=per_vnr_1&units=imperial',\n",
       " 'https://results-2023.runonless.com/truck/?day=9&depot=perf_team&truck=per_vnr_2&units=imperial',\n",
       " 'https://results-2023.runonless.com/truck/?day=9&depot=purolator&truck=pur_etransit&units=imperial',\n",
       " 'https://results-2023.runonless.com/truck/?day=9&depot=purolator&truck=pur_motiv3&units=imperial',\n",
       " 'https://results-2023.runonless.com/truck/?day=9&depot=schneider&truck=sch_ecascadia_2&units=imperial',\n",
       " 'https://results-2023.runonless.com/truck/?day=9&depot=schneider&truck=sch_ecascadia_3&units=imperial',\n",
       " 'https://results-2023.runonless.com/truck/?day=9&depot=ups&truck=ups_fccc&units=imperial',\n",
       " 'https://results-2023.runonless.com/truck/?day=9&depot=ups&truck=ups_ecascadia&units=imperial',\n",
       " 'https://results-2023.runonless.com/truck/?day=9&depot=us_foods&truck=usf_ecascadia_1&units=imperial',\n",
       " 'https://results-2023.runonless.com/truck/?day=9&depot=us_foods&truck=usf_ecascadia_3&units=imperial',\n",
       " 'https://results-2023.runonless.com/truck/?day=9&depot=wattev&truck=wattev_byd_1&units=imperial',\n",
       " 'https://results-2023.runonless.com/truck/?day=9&depot=wattev&truck=water_nikola_1&units=imperial',\n",
       " 'https://results-2023.runonless.com/truck/?day=10&depot=frito_lay&truck=frito_etransit_6&units=imperial',\n",
       " 'https://results-2023.runonless.com/truck/?day=10&depot=frito_lay&truck=frito_etransit_14&units=imperial',\n",
       " 'https://results-2023.runonless.com/truck/?day=10&depot=ok_produce&truck=okp_orange&units=imperial',\n",
       " 'https://results-2023.runonless.com/truck/?day=10&depot=ok_produce&truck=okp_ecascadia_3&units=imperial',\n",
       " 'https://results-2023.runonless.com/truck/?day=10&depot=penske&truck=pen_emv&units=imperial',\n",
       " 'https://results-2023.runonless.com/truck/?day=10&depot=penske&truck=pen_etransit&units=imperial',\n",
       " 'https://results-2023.runonless.com/truck/?day=10&depot=penske&truck=pen_cascadia&units=imperial',\n",
       " 'https://results-2023.runonless.com/truck/?day=10&depot=pepsico&truck=pepsi_tesla1&units=imperial',\n",
       " 'https://results-2023.runonless.com/truck/?day=10&depot=pepsico&truck=pepsi_tesla2&units=imperial',\n",
       " 'https://results-2023.runonless.com/truck/?day=10&depot=pepsico&truck=pepsi_tesla3&units=imperial',\n",
       " 'https://results-2023.runonless.com/truck/?day=10&depot=perf_team&truck=per_vnr_1&units=imperial',\n",
       " 'https://results-2023.runonless.com/truck/?day=10&depot=perf_team&truck=per_vnr_2&units=imperial',\n",
       " 'https://results-2023.runonless.com/truck/?day=10&depot=purolator&truck=pur_etransit&units=imperial',\n",
       " 'https://results-2023.runonless.com/truck/?day=10&depot=purolator&truck=pur_motiv3&units=imperial',\n",
       " 'https://results-2023.runonless.com/truck/?day=10&depot=schneider&truck=sch_ecascadia_2&units=imperial',\n",
       " 'https://results-2023.runonless.com/truck/?day=10&depot=schneider&truck=sch_ecascadia_3&units=imperial',\n",
       " 'https://results-2023.runonless.com/truck/?day=10&depot=ups&truck=ups_fccc&units=imperial',\n",
       " 'https://results-2023.runonless.com/truck/?day=10&depot=ups&truck=ups_ecascadia&units=imperial',\n",
       " 'https://results-2023.runonless.com/truck/?day=10&depot=us_foods&truck=usf_ecascadia_1&units=imperial',\n",
       " 'https://results-2023.runonless.com/truck/?day=10&depot=us_foods&truck=usf_ecascadia_3&units=imperial',\n",
       " 'https://results-2023.runonless.com/truck/?day=10&depot=wattev&truck=wattev_byd_1&units=imperial',\n",
       " 'https://results-2023.runonless.com/truck/?day=10&depot=wattev&truck=water_nikola_1&units=imperial']"
      ]
     },
     "execution_count": 49,
     "metadata": {},
     "output_type": "execute_result"
    }
   ],
   "source": [
    "urls_final = []\n",
    "\n",
    "for each in urls_days:\n",
    "    for fragment in fragments_clean:\n",
    "        urls_final.append(each + fragment)\n",
    "\n",
    "urls_final"
   ]
  },
  {
   "cell_type": "code",
   "execution_count": 52,
   "id": "8c8dde69-d573-4669-b3df-770be29923a1",
   "metadata": {},
   "outputs": [],
   "source": [
    "import random"
   ]
  },
  {
   "cell_type": "code",
   "execution_count": 54,
   "id": "6e913624-6f6b-4b89-a0c4-02c8c04dc80c",
   "metadata": {
    "scrolled": true
   },
   "outputs": [
    {
     "data": {
      "text/plain": [
       "['https://results-2023.runonless.com/truck/?day=5&depot=pepsico&truck=pepsi_tesla3&units=imperial',\n",
       " 'https://results-2023.runonless.com/truck/?day=10&depot=schneider&truck=sch_ecascadia_2&units=imperial',\n",
       " 'https://results-2023.runonless.com/truck/?day=2&depot=frito_lay&truck=frito_etransit_6&units=imperial',\n",
       " 'https://results-2023.runonless.com/truck/?day=3&depot=frito_lay&truck=frito_etransit_6&units=imperial',\n",
       " 'https://results-2023.runonless.com/truck/?day=3&depot=purolator&truck=pur_etransit&units=imperial',\n",
       " 'https://results-2023.runonless.com/truck/?day=3&depot=ups&truck=ups_ecascadia&units=imperial',\n",
       " 'https://results-2023.runonless.com/truck/?day=3&depot=pepsico&truck=pepsi_tesla3&units=imperial',\n",
       " 'https://results-2023.runonless.com/truck/?day=4&depot=ups&truck=ups_fccc&units=imperial',\n",
       " 'https://results-2023.runonless.com/truck/?day=3&depot=schneider&truck=sch_ecascadia_3&units=imperial',\n",
       " 'https://results-2023.runonless.com/truck/?day=10&depot=ok_produce&truck=okp_ecascadia_3&units=imperial',\n",
       " 'https://results-2023.runonless.com/truck/?day=8&depot=us_foods&truck=usf_ecascadia_1&units=imperial',\n",
       " 'https://results-2023.runonless.com/truck/?day=9&depot=schneider&truck=sch_ecascadia_3&units=imperial',\n",
       " 'https://results-2023.runonless.com/truck/?day=7&depot=ups&truck=ups_fccc&units=imperial',\n",
       " 'https://results-2023.runonless.com/truck/?day=10&depot=penske&truck=pen_cascadia&units=imperial',\n",
       " 'https://results-2023.runonless.com/truck/?day=1&depot=us_foods&truck=usf_ecascadia_3&units=imperial']"
      ]
     },
     "execution_count": 54,
     "metadata": {},
     "output_type": "execute_result"
    }
   ],
   "source": [
    "urls_final_demo = random.sample(urls_final, 15)\n",
    "urls_final_demo"
   ]
  },
  {
   "cell_type": "code",
   "execution_count": 56,
   "id": "9ec79c2c-2664-4a2e-a74f-4d53065eebd1",
   "metadata": {},
   "outputs": [
    {
     "name": "stdout",
     "output_type": "stream",
     "text": [
      "Scraping 1 of 15\n",
      "Scraping https://results-2023.runonless.com/truck/?day=5&depot=pepsico&truck=pepsi_tesla3&units=imperial\n",
      "Scraping 2 of 15\n",
      "Scraping https://results-2023.runonless.com/truck/?day=10&depot=schneider&truck=sch_ecascadia_2&units=imperial\n",
      "Scraping 3 of 15\n",
      "Scraping https://results-2023.runonless.com/truck/?day=2&depot=frito_lay&truck=frito_etransit_6&units=imperial\n",
      "Scraping 4 of 15\n",
      "Scraping https://results-2023.runonless.com/truck/?day=3&depot=frito_lay&truck=frito_etransit_6&units=imperial\n",
      "Scraping 5 of 15\n",
      "Scraping https://results-2023.runonless.com/truck/?day=3&depot=purolator&truck=pur_etransit&units=imperial\n",
      "Scraping 6 of 15\n",
      "Scraping https://results-2023.runonless.com/truck/?day=3&depot=ups&truck=ups_ecascadia&units=imperial\n",
      "Scraping 7 of 15\n",
      "Scraping https://results-2023.runonless.com/truck/?day=3&depot=pepsico&truck=pepsi_tesla3&units=imperial\n",
      "Scraping 8 of 15\n",
      "Scraping https://results-2023.runonless.com/truck/?day=4&depot=ups&truck=ups_fccc&units=imperial\n",
      "Scraping 9 of 15\n",
      "Scraping https://results-2023.runonless.com/truck/?day=3&depot=schneider&truck=sch_ecascadia_3&units=imperial\n",
      "Scraping 10 of 15\n",
      "Scraping https://results-2023.runonless.com/truck/?day=10&depot=ok_produce&truck=okp_ecascadia_3&units=imperial\n",
      "Scraping 11 of 15\n",
      "Scraping https://results-2023.runonless.com/truck/?day=8&depot=us_foods&truck=usf_ecascadia_1&units=imperial\n",
      "Scraping 12 of 15\n",
      "Scraping https://results-2023.runonless.com/truck/?day=9&depot=schneider&truck=sch_ecascadia_3&units=imperial\n",
      "Scraping 13 of 15\n",
      "Scraping https://results-2023.runonless.com/truck/?day=7&depot=ups&truck=ups_fccc&units=imperial\n",
      "Scraping 14 of 15\n",
      "Scraping https://results-2023.runonless.com/truck/?day=10&depot=penske&truck=pen_cascadia&units=imperial\n",
      "Scraping 15 of 15\n",
      "Scraping https://results-2023.runonless.com/truck/?day=1&depot=us_foods&truck=usf_ecascadia_3&units=imperial\n"
     ]
    }
   ],
   "source": [
    "all_df = []\n",
    "counter = 1\n",
    "\n",
    "for each_url in urls_final_demo:\n",
    "    print(f\"Scraping {counter} of {len(urls_final_demo)}\")\n",
    "    counter += 1\n",
    "    print(f\"Scraping {each_url}\")\n",
    "    response = requests.get(each_url)\n",
    "    soup = BeautifulSoup(response.text, \"html.parser\")\n",
    "    data = soup.find_all(class_ = \"w-full px-6 h-20 lg:h-28 bg-white flex items-center\")\n",
    "    data6 = []\n",
    "    for sublist in data:\n",
    "        for item in sublist:\n",
    "                data6.append(item)\n",
    "    new_data = (data, each_url)\n",
    "    all_df.append(new_data)"
   ]
  },
  {
   "cell_type": "code",
   "execution_count": 57,
   "id": "a77f4869-ad98-4103-bcf2-bf5c76444e72",
   "metadata": {},
   "outputs": [
    {
     "name": "stdout",
     "output_type": "stream",
     "text": [
      "<div class=\"w-full px-6 h-20 lg:h-28 bg-white flex items-center\">\n",
      "<div class=\"w-1/2 text-lg xl:text-2xl\">\n",
      "    \n",
      "  Total Miles\n",
      "\n",
      "  </div>\n",
      "<div class=\"w-1/2 text-4xl lg:text-5xl xl:text-6xl font-bold text-rolRed-500 text-right\">\n",
      "    \n",
      "  187\n",
      "\n",
      "  </div>\n",
      "</div>\n"
     ]
    }
   ],
   "source": [
    "print(all_df[1][0][0])"
   ]
  },
  {
   "cell_type": "code",
   "execution_count": 58,
   "id": "db9ff4ef-ae9a-4bef-9876-264ac1333870",
   "metadata": {},
   "outputs": [],
   "source": [
    "df = pd.DataFrame(all_df)"
   ]
  },
  {
   "cell_type": "code",
   "execution_count": 59,
   "id": "9e0288e2-bb55-4630-9025-c00a562cce1e",
   "metadata": {},
   "outputs": [
    {
     "data": {
      "text/html": [
       "<div>\n",
       "<style scoped>\n",
       "    .dataframe tbody tr th:only-of-type {\n",
       "        vertical-align: middle;\n",
       "    }\n",
       "\n",
       "    .dataframe tbody tr th {\n",
       "        vertical-align: top;\n",
       "    }\n",
       "\n",
       "    .dataframe thead th {\n",
       "        text-align: right;\n",
       "    }\n",
       "</style>\n",
       "<table border=\"1\" class=\"dataframe\">\n",
       "  <thead>\n",
       "    <tr style=\"text-align: right;\">\n",
       "      <th></th>\n",
       "      <th>0</th>\n",
       "      <th>1</th>\n",
       "    </tr>\n",
       "  </thead>\n",
       "  <tbody>\n",
       "    <tr>\n",
       "      <th>0</th>\n",
       "      <td>[[\\n, [\\n    \\n  Total Miles\\n\\n  ], \\n, [\\n  ...</td>\n",
       "      <td>https://results-2023.runonless.com/truck/?day=...</td>\n",
       "    </tr>\n",
       "    <tr>\n",
       "      <th>1</th>\n",
       "      <td>[[\\n, [\\n    \\n  Total Miles\\n\\n  ], \\n, [\\n  ...</td>\n",
       "      <td>https://results-2023.runonless.com/truck/?day=...</td>\n",
       "    </tr>\n",
       "    <tr>\n",
       "      <th>2</th>\n",
       "      <td>[[\\n, [\\n    \\n  Total Miles\\n\\n  ], \\n, [\\n  ...</td>\n",
       "      <td>https://results-2023.runonless.com/truck/?day=...</td>\n",
       "    </tr>\n",
       "    <tr>\n",
       "      <th>3</th>\n",
       "      <td>[[\\n, [\\n    \\n  Total Miles\\n\\n  ], \\n, [\\n  ...</td>\n",
       "      <td>https://results-2023.runonless.com/truck/?day=...</td>\n",
       "    </tr>\n",
       "    <tr>\n",
       "      <th>4</th>\n",
       "      <td>[[\\n, [\\n    \\n  Total Miles\\n\\n  ], \\n, [\\n  ...</td>\n",
       "      <td>https://results-2023.runonless.com/truck/?day=...</td>\n",
       "    </tr>\n",
       "    <tr>\n",
       "      <th>5</th>\n",
       "      <td>[[\\n, [\\n    \\n  Total Miles\\n\\n  ], \\n, [\\n  ...</td>\n",
       "      <td>https://results-2023.runonless.com/truck/?day=...</td>\n",
       "    </tr>\n",
       "    <tr>\n",
       "      <th>6</th>\n",
       "      <td>[[\\n, [\\n    \\n  Total Miles\\n\\n  ], \\n, [\\n  ...</td>\n",
       "      <td>https://results-2023.runonless.com/truck/?day=...</td>\n",
       "    </tr>\n",
       "    <tr>\n",
       "      <th>7</th>\n",
       "      <td>[[\\n, [\\n    \\n  Total Miles\\n\\n  ], \\n, [\\n  ...</td>\n",
       "      <td>https://results-2023.runonless.com/truck/?day=...</td>\n",
       "    </tr>\n",
       "    <tr>\n",
       "      <th>8</th>\n",
       "      <td>[[\\n, [\\n    \\n  Total Miles\\n\\n  ], \\n, [\\n  ...</td>\n",
       "      <td>https://results-2023.runonless.com/truck/?day=...</td>\n",
       "    </tr>\n",
       "    <tr>\n",
       "      <th>9</th>\n",
       "      <td>[[\\n, [\\n    \\n  Total Miles\\n\\n  ], \\n, [\\n  ...</td>\n",
       "      <td>https://results-2023.runonless.com/truck/?day=...</td>\n",
       "    </tr>\n",
       "    <tr>\n",
       "      <th>10</th>\n",
       "      <td>[[\\n, [\\n    \\n  Total Miles\\n\\n  ], \\n, [\\n  ...</td>\n",
       "      <td>https://results-2023.runonless.com/truck/?day=...</td>\n",
       "    </tr>\n",
       "    <tr>\n",
       "      <th>11</th>\n",
       "      <td>[[\\n, [\\n    \\n  Total Miles\\n\\n  ], \\n, [\\n  ...</td>\n",
       "      <td>https://results-2023.runonless.com/truck/?day=...</td>\n",
       "    </tr>\n",
       "    <tr>\n",
       "      <th>12</th>\n",
       "      <td>[[\\n, [\\n    \\n  Total Miles\\n\\n  ], \\n, [\\n  ...</td>\n",
       "      <td>https://results-2023.runonless.com/truck/?day=...</td>\n",
       "    </tr>\n",
       "    <tr>\n",
       "      <th>13</th>\n",
       "      <td>[[\\n, [\\n    \\n  Total Miles\\n\\n  ], \\n, [\\n  ...</td>\n",
       "      <td>https://results-2023.runonless.com/truck/?day=...</td>\n",
       "    </tr>\n",
       "    <tr>\n",
       "      <th>14</th>\n",
       "      <td>[[\\n, [\\n    \\n  Total Miles\\n\\n  ], \\n, [\\n  ...</td>\n",
       "      <td>https://results-2023.runonless.com/truck/?day=...</td>\n",
       "    </tr>\n",
       "  </tbody>\n",
       "</table>\n",
       "</div>"
      ],
      "text/plain": [
       "                                                    0  \\\n",
       "0   [[\\n, [\\n    \\n  Total Miles\\n\\n  ], \\n, [\\n  ...   \n",
       "1   [[\\n, [\\n    \\n  Total Miles\\n\\n  ], \\n, [\\n  ...   \n",
       "2   [[\\n, [\\n    \\n  Total Miles\\n\\n  ], \\n, [\\n  ...   \n",
       "3   [[\\n, [\\n    \\n  Total Miles\\n\\n  ], \\n, [\\n  ...   \n",
       "4   [[\\n, [\\n    \\n  Total Miles\\n\\n  ], \\n, [\\n  ...   \n",
       "5   [[\\n, [\\n    \\n  Total Miles\\n\\n  ], \\n, [\\n  ...   \n",
       "6   [[\\n, [\\n    \\n  Total Miles\\n\\n  ], \\n, [\\n  ...   \n",
       "7   [[\\n, [\\n    \\n  Total Miles\\n\\n  ], \\n, [\\n  ...   \n",
       "8   [[\\n, [\\n    \\n  Total Miles\\n\\n  ], \\n, [\\n  ...   \n",
       "9   [[\\n, [\\n    \\n  Total Miles\\n\\n  ], \\n, [\\n  ...   \n",
       "10  [[\\n, [\\n    \\n  Total Miles\\n\\n  ], \\n, [\\n  ...   \n",
       "11  [[\\n, [\\n    \\n  Total Miles\\n\\n  ], \\n, [\\n  ...   \n",
       "12  [[\\n, [\\n    \\n  Total Miles\\n\\n  ], \\n, [\\n  ...   \n",
       "13  [[\\n, [\\n    \\n  Total Miles\\n\\n  ], \\n, [\\n  ...   \n",
       "14  [[\\n, [\\n    \\n  Total Miles\\n\\n  ], \\n, [\\n  ...   \n",
       "\n",
       "                                                    1  \n",
       "0   https://results-2023.runonless.com/truck/?day=...  \n",
       "1   https://results-2023.runonless.com/truck/?day=...  \n",
       "2   https://results-2023.runonless.com/truck/?day=...  \n",
       "3   https://results-2023.runonless.com/truck/?day=...  \n",
       "4   https://results-2023.runonless.com/truck/?day=...  \n",
       "5   https://results-2023.runonless.com/truck/?day=...  \n",
       "6   https://results-2023.runonless.com/truck/?day=...  \n",
       "7   https://results-2023.runonless.com/truck/?day=...  \n",
       "8   https://results-2023.runonless.com/truck/?day=...  \n",
       "9   https://results-2023.runonless.com/truck/?day=...  \n",
       "10  https://results-2023.runonless.com/truck/?day=...  \n",
       "11  https://results-2023.runonless.com/truck/?day=...  \n",
       "12  https://results-2023.runonless.com/truck/?day=...  \n",
       "13  https://results-2023.runonless.com/truck/?day=...  \n",
       "14  https://results-2023.runonless.com/truck/?day=...  "
      ]
     },
     "execution_count": 59,
     "metadata": {},
     "output_type": "execute_result"
    }
   ],
   "source": [
    "df"
   ]
  },
  {
   "cell_type": "code",
   "execution_count": 70,
   "id": "3d1e26b4-31bc-4806-9aff-18f13b987861",
   "metadata": {},
   "outputs": [
    {
     "data": {
      "text/plain": [
       "'h'"
      ]
     },
     "execution_count": 70,
     "metadata": {},
     "output_type": "execute_result"
    }
   ],
   "source": []
  },
  {
   "cell_type": "code",
   "execution_count": 66,
   "id": "88257421-2fd8-451f-8d30-2b291d4a0bd1",
   "metadata": {},
   "outputs": [
    {
     "data": {
      "text/plain": [
       "'https://results-2023.runonless.com/truck/?day=5&depot=pepsico&truck=pepsi_tesla3&units=imperial'"
      ]
     },
     "execution_count": 66,
     "metadata": {},
     "output_type": "execute_result"
    }
   ],
   "source": [
    "df[1][0]"
   ]
  },
  {
   "cell_type": "code",
   "execution_count": null,
   "id": "d8de951c-7f68-48ec-b125-ea61d5878c81",
   "metadata": {},
   "outputs": [],
   "source": []
  }
 ],
 "metadata": {
  "kernelspec": {
   "display_name": "Python 3 (ipykernel)",
   "language": "python",
   "name": "python3"
  },
  "language_info": {
   "codemirror_mode": {
    "name": "ipython",
    "version": 3
   },
   "file_extension": ".py",
   "mimetype": "text/x-python",
   "name": "python",
   "nbconvert_exporter": "python",
   "pygments_lexer": "ipython3",
   "version": "3.11.7"
  }
 },
 "nbformat": 4,
 "nbformat_minor": 5
}
